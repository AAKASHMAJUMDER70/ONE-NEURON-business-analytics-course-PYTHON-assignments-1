{
 "cells": [
  {
   "cell_type": "code",
   "execution_count": 3,
   "id": "bcfb1944",
   "metadata": {},
   "outputs": [
    {
     "name": "stdout",
     "output_type": "stream",
     "text": [
      "enter a number between 1500 and 2700 (both included) which you want to check : 35\n",
      "the number satisfies the desired criteria\n"
     ]
    }
   ],
   "source": [
    "#1.\tWrite a Python program to find those numbers which are divisible by 7 and multiple of 5, between 1500 and 2700 (both included).\n",
    "\n",
    "\n",
    "\n",
    "\n",
    "\n",
    "num = int(input('enter a number between 1500 and 2700 (both included) which you want to check : '))\n",
    "if num%7==0 and num%5==0:\n",
    "    print('the number satisfies the desired criteria')\n",
    "else:\n",
    "    print('re-enter a number')"
   ]
  },
  {
   "cell_type": "code",
   "execution_count": 1,
   "id": "1ed45326",
   "metadata": {},
   "outputs": [
    {
     "name": "stdout",
     "output_type": "stream",
     "text": [
      "enter the first num : 2\n",
      "enter the second number  : 2\n",
      "the sum is =  4\n"
     ]
    }
   ],
   "source": [
    "#2.\tPython program to add two numbers\n",
    "\n",
    "a = int(input('enter the first num : '))\n",
    "b = int(input('enter the second number  : '))\n",
    "sum = a+b\n",
    "print('the sum is = ',sum)"
   ]
  },
  {
   "cell_type": "code",
   "execution_count": 3,
   "id": "c2858ecd",
   "metadata": {},
   "outputs": [
    {
     "name": "stdout",
     "output_type": "stream",
     "text": [
      "enter the first num : 23\n",
      "enter the second number  : 27\n",
      "the second number is 27  greater than first number  23\n"
     ]
    }
   ],
   "source": [
    "#3.\tMaximum of two numbers in Python\n",
    "\n",
    "a = int(input('enter the first num : '))\n",
    "b = int(input('enter the second number  : '))\n",
    "if a>b:\n",
    "    print('the first number is',a,' which is greater than second number ',b)\n",
    "else:\n",
    "    print('the second number is',b,' which is greater than first number ',a)"
   ]
  },
  {
   "cell_type": "code",
   "execution_count": 7,
   "id": "01f1cb93",
   "metadata": {},
   "outputs": [
    {
     "name": "stdout",
     "output_type": "stream",
     "text": [
      "enter the number which you want to find the factorial of : 5\n",
      "the factorial of the number  5  is  120\n"
     ]
    }
   ],
   "source": [
    "# 4.\tPython Program for factorial of a number\n",
    "\n",
    "num = int(input('enter the number which you want to find the factorial of : '))\n",
    "fact = 1\n",
    "for i in range(1,num+1):\n",
    "    fact  = fact*i\n",
    "    \n",
    "print('the factorial of the number ',num,' is ',fact)\n",
    "    "
   ]
  },
  {
   "cell_type": "code",
   "execution_count": 8,
   "id": "84ccc6c9",
   "metadata": {},
   "outputs": [
    {
     "name": "stdout",
     "output_type": "stream",
     "text": [
      "enter the principal amount : 1000\n",
      "enter the rate of interest : 3\n",
      "enter the time of maturity in months: 60\n",
      "the simple interest is  150.0 and amount is  1150.0\n"
     ]
    }
   ],
   "source": [
    "# 5.\tPython Program for simple interest\n",
    "\n",
    "princ= int(input('enter the principal amount : '))\n",
    "rate = int(input('enter the rate of interest : '))\n",
    "time = int(input('enter the time of maturity in months: '))\n",
    "time1 = time/12\n",
    "si = (princ*rate*time1)/100\n",
    "amount = princ+si\n",
    "print('the simple interest is ',si,'and amount is ',amount)\n"
   ]
  },
  {
   "cell_type": "code",
   "execution_count": 2,
   "id": "2dc2b762",
   "metadata": {},
   "outputs": [
    {
     "name": "stdout",
     "output_type": "stream",
     "text": [
      "enter the principal amount : 700\n",
      "enter the number of time period elapsed : 2\n",
      "enter the rate of interest : 5\n",
      "enter the number of times interest applied per time period4\n",
      "the compound interest is  459088.58489990234  and the amount is  459788.58489990234\n"
     ]
    }
   ],
   "source": [
    "# 6.\tPython Program for compound interest\n",
    "\n",
    "princ= int(input('enter the principal amount : '))\n",
    "time = int(input('enter the number of time period elapsed : '))\n",
    "rate = int(input('enter the rate of interest : '))\n",
    "n = int(input('enter the number of times interest applied per time period'))\n",
    "amount = princ*((1+(rate/n))**(n*time))\n",
    "ci = amount - princ\n",
    "print('the compound interest is ',ci,' and the amount is ',amount)\n",
    "\n"
   ]
  },
  {
   "cell_type": "code",
   "execution_count": 9,
   "id": "d6c9cd29",
   "metadata": {},
   "outputs": [
    {
     "name": "stdout",
     "output_type": "stream",
     "text": [
      "enter a number that you want  to check as an armstrong number : 456\n",
      "the number  456  is not an armstrong number\n"
     ]
    }
   ],
   "source": [
    "# 7.\tPython Program to check Armstrong Number\n",
    "\n",
    "num = input('enter a number that you want  to check as an armstrong number : ')\n",
    "num1=0\n",
    "for i in num:\n",
    "    num1 = num1 + int(i)**3\n",
    "if int(num)==num1:\n",
    "    print('the number ',num,' is an armstrong number')\n",
    "else:\n",
    "    print('the number ',num,' is not an armstrong number')"
   ]
  },
  {
   "cell_type": "code",
   "execution_count": 10,
   "id": "045c96e3",
   "metadata": {},
   "outputs": [
    {
     "name": "stdout",
     "output_type": "stream",
     "text": [
      "enter the radius of the circle whose area you want to find out  : 1\n",
      "the area of the circle is  3.14\n"
     ]
    }
   ],
   "source": [
    "#8.\tPython Program for Program to find area of a circle\n",
    "\n",
    "r = int(input('enter the radius of the circle whose area you want to find out  : '))\n",
    "area = 3.14*(r**2)\n",
    "print('the area of the circle is ',area)"
   ]
  },
  {
   "cell_type": "code",
   "execution_count": 3,
   "id": "cdc56a29",
   "metadata": {},
   "outputs": [
    {
     "name": "stdout",
     "output_type": "stream",
     "text": [
      "enetr the first number of the interval: 23\n",
      "enter the second number of the interval: 25\n",
      "the number 23  is prime\n",
      "the number  24  is not prime\n",
      "the number  25  is not prime\n"
     ]
    }
   ],
   "source": [
    "# 9.\tPython program to print all Prime numbers in an Interval\n",
    "\n",
    "a = int(input('enetr the first number of the interval: '))\n",
    "b = int(input('enter the second number of the interval: '))\n",
    "list1 = list(range(a,b+1))\n",
    "count = 0\n",
    "for j in list1:\n",
    "    for i in range(1,j+1):\n",
    "        if j%i==0:\n",
    "            count = count+1\n",
    "        else:\n",
    "            pass\n",
    "    if count==2:\n",
    "        print('the number',j,' is prime')\n",
    "    else:\n",
    "        print('the number ',j,' is not prime')"
   ]
  },
  {
   "cell_type": "code",
   "execution_count": 17,
   "id": "0aabefb0",
   "metadata": {},
   "outputs": [
    {
     "name": "stdout",
     "output_type": "stream",
     "text": [
      "enter the number you want to check whether it is a prime number or not: 3\n",
      "the number is prime\n"
     ]
    }
   ],
   "source": [
    "#10.\tPython program to check whether a number is Prime or not\n",
    "\n",
    "num  = int(input('enter the number you want to check whether it is a prime number or not: '))\n",
    "count = 0\n",
    "for i in range(1,num+1):\n",
    "    if num%i==0:\n",
    "        count = count+1\n",
    "    else:\n",
    "        pass\n",
    "if count==2:\n",
    "    print('the number is prime')\n",
    "else:\n",
    "    print('the number is not prime')\n",
    "    \n",
    "    "
   ]
  },
  {
   "cell_type": "code",
   "execution_count": null,
   "id": "d3ce27ab",
   "metadata": {},
   "outputs": [],
   "source": []
  },
  {
   "cell_type": "code",
   "execution_count": null,
   "id": "d37f3874",
   "metadata": {},
   "outputs": [],
   "source": []
  },
  {
   "cell_type": "code",
   "execution_count": null,
   "id": "f668d3e0",
   "metadata": {},
   "outputs": [],
   "source": []
  },
  {
   "cell_type": "code",
   "execution_count": null,
   "id": "511cab82",
   "metadata": {},
   "outputs": [],
   "source": []
  },
  {
   "cell_type": "code",
   "execution_count": null,
   "id": "7a1c709d",
   "metadata": {},
   "outputs": [],
   "source": []
  },
  {
   "cell_type": "code",
   "execution_count": null,
   "id": "134f059f",
   "metadata": {},
   "outputs": [],
   "source": []
  },
  {
   "cell_type": "code",
   "execution_count": null,
   "id": "f12d1928",
   "metadata": {},
   "outputs": [],
   "source": []
  },
  {
   "cell_type": "code",
   "execution_count": null,
   "id": "8ccc15fd",
   "metadata": {},
   "outputs": [],
   "source": []
  },
  {
   "cell_type": "code",
   "execution_count": null,
   "id": "3b757623",
   "metadata": {},
   "outputs": [],
   "source": []
  },
  {
   "cell_type": "code",
   "execution_count": null,
   "id": "c093bf0a",
   "metadata": {},
   "outputs": [],
   "source": []
  },
  {
   "cell_type": "code",
   "execution_count": null,
   "id": "65e60bd6",
   "metadata": {},
   "outputs": [],
   "source": []
  },
  {
   "cell_type": "code",
   "execution_count": null,
   "id": "412d6583",
   "metadata": {},
   "outputs": [],
   "source": []
  },
  {
   "cell_type": "code",
   "execution_count": null,
   "id": "2ee24ecd",
   "metadata": {},
   "outputs": [],
   "source": []
  }
 ],
 "metadata": {
  "kernelspec": {
   "display_name": "Python 3",
   "language": "python",
   "name": "python3"
  },
  "language_info": {
   "codemirror_mode": {
    "name": "ipython",
    "version": 3
   },
   "file_extension": ".py",
   "mimetype": "text/x-python",
   "name": "python",
   "nbconvert_exporter": "python",
   "pygments_lexer": "ipython3",
   "version": "3.8.8"
  }
 },
 "nbformat": 4,
 "nbformat_minor": 5
}
